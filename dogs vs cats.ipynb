{
 "cells": [
  {
   "cell_type": "code",
   "execution_count": 1,
   "id": "54fe6d4d",
   "metadata": {},
   "outputs": [],
   "source": [
    "import numpy as np\n",
    "import os\n",
    "from PIL import Image\n",
    "from tabulate import tabulate"
   ]
  },
  {
   "cell_type": "code",
   "execution_count": 2,
   "id": "40b81846",
   "metadata": {},
   "outputs": [
    {
     "ename": "SyntaxError",
     "evalue": "invalid syntax (<ipython-input-2-5f50606167ce>, line 6)",
     "output_type": "error",
     "traceback": [
      "\u001b[1;36m  File \u001b[1;32m\"<ipython-input-2-5f50606167ce>\"\u001b[1;36m, line \u001b[1;32m6\u001b[0m\n\u001b[1;33m    img.save('train/{}'.'png')\u001b[0m\n\u001b[1;37m                        ^\u001b[0m\n\u001b[1;31mSyntaxError\u001b[0m\u001b[1;31m:\u001b[0m invalid syntax\n"
     ]
    }
   ],
   "source": []
  },
  {
   "cell_type": "code",
   "execution_count": null,
   "id": "23ad3818",
   "metadata": {},
   "outputs": [],
   "source": [
    "# define the maximum size for resizing\n",
    "small = (300,300)\n",
    "\n",
    "\n",
    "# iterate over all the files in the 'images' folder\n",
    "for f in os.listdir('train'):\n",
    "  if f.endswith('.jpg') or f.endswith('.png'):\n",
    "    # resize\n",
    "    img_name = f\n",
    "    img = Image.open('train/{}'.format(img_name))\n",
    "    img.thumbnail(small)\n",
    "    img.save('train_small/{}'.format(img_name))"
   ]
  },
  {
   "cell_type": "code",
   "execution_count": null,
   "id": "546e0a91",
   "metadata": {},
   "outputs": [],
   "source": [
    "#for f in os.listdir('train/train'):\n",
    " "
   ]
  },
  {
   "cell_type": "code",
   "execution_count": null,
   "id": "47c7bc62",
   "metadata": {},
   "outputs": [],
   "source": []
  },
  {
   "cell_type": "code",
   "execution_count": null,
   "id": "25bc064f",
   "metadata": {},
   "outputs": [],
   "source": []
  },
  {
   "cell_type": "code",
   "execution_count": null,
   "id": "8811dc39",
   "metadata": {},
   "outputs": [],
   "source": []
  },
  {
   "cell_type": "code",
   "execution_count": null,
   "id": "390de81a",
   "metadata": {},
   "outputs": [],
   "source": []
  },
  {
   "cell_type": "code",
   "execution_count": null,
   "id": "27c7ec81",
   "metadata": {},
   "outputs": [],
   "source": []
  },
  {
   "cell_type": "code",
   "execution_count": null,
   "id": "ee3d3db3",
   "metadata": {},
   "outputs": [],
   "source": []
  },
  {
   "cell_type": "code",
   "execution_count": null,
   "id": "7e92f6e3",
   "metadata": {},
   "outputs": [],
   "source": []
  }
 ],
 "metadata": {
  "kernelspec": {
   "display_name": "Python 3",
   "language": "python",
   "name": "python3"
  },
  "language_info": {
   "codemirror_mode": {
    "name": "ipython",
    "version": 3
   },
   "file_extension": ".py",
   "mimetype": "text/x-python",
   "name": "python",
   "nbconvert_exporter": "python",
   "pygments_lexer": "ipython3",
   "version": "3.8.8"
  }
 },
 "nbformat": 4,
 "nbformat_minor": 5
}
